{
 "cells": [
  {
   "cell_type": "code",
   "execution_count": 111,
   "id": "62fbad55",
   "metadata": {},
   "outputs": [],
   "source": [
    "import serial\n",
    "import time\n",
    "import pyvisa\n",
    "import sys\n",
    "import numpy as np\n",
    "from decimal import Decimal\n",
    "import pandas as pd\n",
    "import matplotlib.pyplot as plt\n",
    "from pathlib import Path\n",
    "from IPython.display import clear_output\n",
    "from datetime import datetime\n",
    "\n",
    "from ipywidgets import interact, interactive, fixed, interact_manual\n",
    "import ipywidgets as widgets"
   ]
  },
  {
   "cell_type": "code",
   "execution_count": 112,
   "id": "708bec5f",
   "metadata": {},
   "outputs": [],
   "source": [
    "###############################\n",
    "##Specify SA GPIB address######\n",
    "Spectrum = \"GPIB0::0::0::INSTR\"\n",
    "###############################"
   ]
  },
  {
   "cell_type": "code",
   "execution_count": 113,
   "id": "b009d471",
   "metadata": {},
   "outputs": [],
   "source": [
    "#HP 8560A command set\n",
    "SET_HP_CENTER_FREQ = \"CF \"\n",
    "GET_HP_CENTER_FREQ = \"CF?\""
   ]
  },
  {
   "cell_type": "code",
   "execution_count": 114,
   "id": "812ddf89",
   "metadata": {},
   "outputs": [],
   "source": [
    "###############################\n",
    "##Spectrum capture parameters##\n",
    "spectrumCenter = \"2440000000\"\n",
    "spectrumSpan = \"100000000\"\n",
    "spectrumRBW = \"1000000\"\n",
    "spectrumReferenceLevel = \"10\"\n",
    "###############################"
   ]
  },
  {
   "cell_type": "code",
   "execution_count": 115,
   "id": "4739af90",
   "metadata": {},
   "outputs": [],
   "source": [
    "#HP8560A\n",
    "#Spectrum analyzer setup\n",
    "rm = pyvisa.ResourceManager()\n",
    "instrument = rm.open_resource(Spectrum)\n",
    "\n",
    "instrument.timeout = 20000"
   ]
  },
  {
   "cell_type": "code",
   "execution_count": 116,
   "id": "e5b0059e",
   "metadata": {},
   "outputs": [],
   "source": [
    "instrument.write(\"CF?\")\n",
    "spectrumCenter = instrument.read().rstrip()\n",
    "\n",
    "instrument.write(\"SP?\")\n",
    "spectrumSpan = instrument.read().rstrip()\n",
    "\n",
    "instrument.write(\"RB?\")\n",
    "spectrumRBW = instrument.read().rstrip()\n",
    "\n",
    "instrument.write(\"RL?\")\n",
    "spectrumReferenceLevel = instrument.read().rstrip()\n"
   ]
  },
  {
   "cell_type": "code",
   "execution_count": 117,
   "id": "b31604ce",
   "metadata": {},
   "outputs": [
    {
     "data": {
      "image/png": "[encoded data removed]",
      "text/plain": [
       "<Figure size 640x480 with 1 Axes>"
      ]
     },
     "metadata": {},
     "output_type": "display_data"
    }
   ],
   "source": [
    "fig = plt.figure()\n",
    "ax = fig.add_subplot(1, 1, 1) \n",
    "ax.set(xlabel='Sample', ylabel='Power (dBm)')\n",
    "ax.grid()\n",
    "\n",
    "df = pd.DataFrame(columns=range(2), index=range(601))\n",
    "frequencies = range(int(float(spectrumCenter)) - int(float(spectrumSpan))//2, int(float(spectrumCenter)) + int(float(spectrumSpan))//2, int(float(spectrumSpan))//600)\n",
    "df[0] = frequencies\n",
    "df = df.astype(float)\n",
    "df1 = df.set_index(0)\n",
    "\n",
    "for i in range(10):\n",
    "# Get Spectrum trace\n",
    "    instrument.write(\"TRA?\")\n",
    "    trace_data = instrument.read()\n",
    "    trace_data = trace_data[0:len(trace_data)-1]\n",
    "    data = trace_data.split(\",\")\n",
    "    data = [float(value) for value in data]\n",
    "    time.sleep(0.15)\n",
    "\n",
    "    #x = np.linspace(0, i, len(data));\n",
    "    #ax.set_xlim(0, i)\n",
    "    #ax.cla()\n",
    "    #ax.plot(df1.index, data)\n",
    "    \n",
    "    #ax.set_ylim(-100, 10)\n",
    "    #ax.set_yticks(range(-120, int(spectrumReferenceLevel)+10, 10))\n",
    "    #plt.grid(True)\n",
    "    \n",
    "    #display(fig)\n",
    "    clear_output(wait = True)\n"
   ]
  },
  {
   "cell_type": "code",
   "execution_count": 118,
   "id": "b1c62449",
   "metadata": {},
   "outputs": [],
   "source": [
    "instrument.close()"
   ]
  }
 ],
 "metadata": {
  "kernelspec": {
   "display_name": "Python 3 (ipykernel)",
   "language": "python",
   "name": "python3"
  },
  "language_info": {
   "codemirror_mode": {
    "name": "ipython",
    "version": 3
   },
   "file_extension": ".py",
   "mimetype": "text/x-python",
   "name": "python",
   "nbconvert_exporter": "python",
   "pygments_lexer": "ipython3",
   "version": "3.9.13"
  }
 },
 "nbformat": 4,
 "nbformat_minor": 5
}
