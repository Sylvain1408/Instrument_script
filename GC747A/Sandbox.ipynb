{
 "cells": [
  {
   "cell_type": "markdown",
   "id": "3110eba2",
   "metadata": {},
   "source": [
    "# Some useful functions to help reverse engineer GC747A"
   ]
  },
  {
   "cell_type": "code",
   "execution_count": null,
   "id": "96c04953",
   "metadata": {},
   "outputs": [],
   "source": [
    "def s11_to_z(S11, Z0):\n",
    "    \"\"\"\n",
    "    Convertit le paramètre S11 en impédance Z.\n",
    "\n",
    "    :param S11: Paramètre S11\n",
    "    :param Z0: Impédance caractéristique\n",
    "    :return: Impédance Z\n",
    "    \"\"\"\n",
    "    Z = (1 + S11) / (1 - S11)\n",
    "    return Z\n",
    "\n",
    "# Exemple d'utilisation\n",
    "S11 = 0 - 0j\n",
    "Z0 = 50  # Impédance caractéristique en ohms\n",
    "\n",
    "Z = s11_to_z(S11, Z0)\n",
    "print(f\"L'impédance Z est : {Z}\")"
   ]
  },
  {
   "cell_type": "code",
   "execution_count": null,
   "id": "ba397773",
   "metadata": {},
   "outputs": [],
   "source": [
    "def z_to_s11(Z, Z0):\n",
    "    \"\"\"\n",
    "    Convertit l'impédance Z en paramètre S11.\n",
    "\n",
    "    :param Z: Impédance\n",
    "    :param Z0: Impédance caractéristique\n",
    "    :return: Paramètre S11\n",
    "    \"\"\"\n",
    "    S11 = (Z - Z0) / (Z + Z0)\n",
    "    return S11\n",
    "\n",
    "# Exemple d'utilisation\n",
    "Z = -0.9998 + 77.8043j  # Impédance en ohms\n",
    "Z0 = 1  # Impédance caractéristique en ohms\n",
    "\n",
    "S11 = z_to_s11(Z, Z0)\n",
    "print(f\"Le paramètre S11 est : {S11}\")"
   ]
  },
  {
   "cell_type": "code",
   "execution_count": null,
   "id": "b60ca000",
   "metadata": {},
   "outputs": [],
   "source": [
    "def chercher_et_afficher_octet_suivant(fichier):\n",
    "    try:\n",
    "        with open(fichier, 'rb') as f:\n",
    "            contenu = f.read()\n",
    "            longueur = len(contenu)\n",
    "            i = 0\n",
    "            while i < longueur:\n",
    "                if contenu[i] == 0x7d:\n",
    "                    if i + 1 < longueur:\n",
    "                        print(f\"Octet suivant après 0x7d à la position {i}: {hex(contenu[i + 1])}\")\n",
    "                    else:\n",
    "                        print(f\"0x7d trouvé à la position {i}, mais il n'y a pas d'octet suivant.\")\n",
    "                i += 1\n",
    "    except FileNotFoundError:\n",
    "        print(f\"Le fichier {fichier} n'a pas été trouvé.\")\n",
    "    except Exception as e:\n",
    "        print(f\"Une erreur est survenue: {e}\")\n",
    "\n",
    "# Remplacez 'votre_fichier_binaire.bin' par le chemin de votre fichier binaire\n",
    "chercher_et_afficher_octet_suivant('test.bin')"
   ]
  }
 ],
 "metadata": {
  "kernelspec": {
   "display_name": "Python 3 (ipykernel)",
   "language": "python",
   "name": "python3"
  },
  "language_info": {
   "codemirror_mode": {
    "name": "ipython",
    "version": 3
   },
   "file_extension": ".py",
   "mimetype": "text/x-python",
   "name": "python",
   "nbconvert_exporter": "python",
   "pygments_lexer": "ipython3",
   "version": "3.9.13"
  }
 },
 "nbformat": 4,
 "nbformat_minor": 5
}
